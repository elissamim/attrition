{
 "cells": [
  {
   "cell_type": "code",
   "execution_count": 2,
   "id": "7716abe4-2afb-4d0b-abb2-79c1a18815e9",
   "metadata": {
    "scrolled": true
   },
   "outputs": [
    {
     "name": "stdout",
     "output_type": "stream",
     "text": [
      "{'prediction': [1]}\n"
     ]
    }
   ],
   "source": [
    "import requests\n",
    "\n",
    "url = \"http://127.0.0.1:8000/predict\"\n",
    "data = [{\"Age\": 25, \"Years_at_Company\": 3, \"Average_Monthly_Hours\": 200, \"Salary\": 1, \"Satisfaction_Level\":0.2,\n",
    "        \"Gender\":\"Male\", \"Department\":\"Engineering\", \"Promotion_Last_5Years\":1}]\n",
    "response = requests.post(url, json=data)\n",
    "print(response.json())"
   ]
  },
  {
   "cell_type": "code",
   "execution_count": 12,
   "id": "f9af393d-bbbe-4fbf-a104-87efa5ea131f",
   "metadata": {},
   "outputs": [
    {
     "name": "stdout",
     "output_type": "stream",
     "text": [
      "{'prediction': [0]}\n"
     ]
    }
   ],
   "source": [
    "url = \"http://127.0.0.1:8000/predict\"\n",
    "data = [{\"Age\": 30, \"Years_at_Company\": 1, \"Average_Monthly_Hours\": 150, \"Salary\": 90000, \"Satisfaction_Level\":0.9,\n",
    "        \"Gender\":\"Female\", \"Department\":\"HR\", \"Promotion_Last_5Years\":0}]\n",
    "response = requests.post(url, json=data)\n",
    "print(response.json())"
   ]
  }
 ],
 "metadata": {
  "kernelspec": {
   "display_name": "Python 3 (ipykernel)",
   "language": "python",
   "name": "python3"
  },
  "language_info": {
   "codemirror_mode": {
    "name": "ipython",
    "version": 3
   },
   "file_extension": ".py",
   "mimetype": "text/x-python",
   "name": "python",
   "nbconvert_exporter": "python",
   "pygments_lexer": "ipython3",
   "version": "3.12.7"
  }
 },
 "nbformat": 4,
 "nbformat_minor": 5
}
