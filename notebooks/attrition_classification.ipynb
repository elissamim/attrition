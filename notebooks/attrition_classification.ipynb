{
 "cells": [
  {
   "cell_type": "code",
   "execution_count": 1,
   "id": "995e9f5c-c143-473e-96a0-e7bcce14f84e",
   "metadata": {},
   "outputs": [],
   "source": [
    "%load_ext autoreload\n",
    "%autoreload 2"
   ]
  },
  {
   "cell_type": "code",
   "execution_count": 34,
   "id": "666fa22a-514c-40c2-9ddb-9f335e76663b",
   "metadata": {},
   "outputs": [],
   "source": [
    "import pandas as pd\n",
    "import matplotlib.pyplot as plt\n",
    "import seaborn as sns"
   ]
  },
  {
   "cell_type": "code",
   "execution_count": 6,
   "id": "6563ae2c-7bb8-4ed8-8362-6405c7014baa",
   "metadata": {},
   "outputs": [],
   "source": [
    "pd.set_option(\"display.max_columns\", None)"
   ]
  },
  {
   "cell_type": "code",
   "execution_count": 17,
   "id": "372552a3-e75b-4881-8190-12a6beb51e7e",
   "metadata": {},
   "outputs": [
    {
     "data": {
      "text/html": [
       "<div>\n",
       "<style scoped>\n",
       "    .dataframe tbody tr th:only-of-type {\n",
       "        vertical-align: middle;\n",
       "    }\n",
       "\n",
       "    .dataframe tbody tr th {\n",
       "        vertical-align: top;\n",
       "    }\n",
       "\n",
       "    .dataframe thead th {\n",
       "        text-align: right;\n",
       "    }\n",
       "</style>\n",
       "<table border=\"1\" class=\"dataframe\">\n",
       "  <thead>\n",
       "    <tr style=\"text-align: right;\">\n",
       "      <th></th>\n",
       "      <th>Unnamed: 0</th>\n",
       "      <th>Employee_ID</th>\n",
       "      <th>Age</th>\n",
       "      <th>Gender</th>\n",
       "      <th>Department</th>\n",
       "      <th>Job_Title</th>\n",
       "      <th>Office_Localisation</th>\n",
       "      <th>Years_at_Company</th>\n",
       "      <th>Satisfaction_Level</th>\n",
       "      <th>Average_Monthly_Hours</th>\n",
       "      <th>Promotion_Last_5Years</th>\n",
       "      <th>Salary</th>\n",
       "      <th>Attrition</th>\n",
       "    </tr>\n",
       "  </thead>\n",
       "  <tbody>\n",
       "    <tr>\n",
       "      <th>0</th>\n",
       "      <td>0</td>\n",
       "      <td>0</td>\n",
       "      <td>27.0</td>\n",
       "      <td>Male</td>\n",
       "      <td>Marketing</td>\n",
       "      <td>Manager</td>\n",
       "      <td>New York</td>\n",
       "      <td>9.0</td>\n",
       "      <td>0.586251</td>\n",
       "      <td>151</td>\n",
       "      <td>0</td>\n",
       "      <td>60132</td>\n",
       "      <td>0.0</td>\n",
       "    </tr>\n",
       "    <tr>\n",
       "      <th>1</th>\n",
       "      <td>1</td>\n",
       "      <td>1</td>\n",
       "      <td>53.0</td>\n",
       "      <td>Female</td>\n",
       "      <td>Sales</td>\n",
       "      <td>Engineer</td>\n",
       "      <td>New York</td>\n",
       "      <td>10.0</td>\n",
       "      <td>0.261161</td>\n",
       "      <td>221</td>\n",
       "      <td>1</td>\n",
       "      <td>79947</td>\n",
       "      <td>0.0</td>\n",
       "    </tr>\n",
       "    <tr>\n",
       "      <th>2</th>\n",
       "      <td>2</td>\n",
       "      <td>2</td>\n",
       "      <td>59.0</td>\n",
       "      <td>Female</td>\n",
       "      <td>Marketing</td>\n",
       "      <td>Analyst</td>\n",
       "      <td>New York</td>\n",
       "      <td>8.0</td>\n",
       "      <td>0.304382</td>\n",
       "      <td>184</td>\n",
       "      <td>0</td>\n",
       "      <td>46958</td>\n",
       "      <td>1.0</td>\n",
       "    </tr>\n",
       "    <tr>\n",
       "      <th>3</th>\n",
       "      <td>3</td>\n",
       "      <td>3</td>\n",
       "      <td>42.0</td>\n",
       "      <td>Female</td>\n",
       "      <td>Engineering</td>\n",
       "      <td>Manager</td>\n",
       "      <td>New York</td>\n",
       "      <td>1.0</td>\n",
       "      <td>0.480779</td>\n",
       "      <td>242</td>\n",
       "      <td>0</td>\n",
       "      <td>40662</td>\n",
       "      <td>0.0</td>\n",
       "    </tr>\n",
       "    <tr>\n",
       "      <th>4</th>\n",
       "      <td>4</td>\n",
       "      <td>4</td>\n",
       "      <td>44.0</td>\n",
       "      <td>Female</td>\n",
       "      <td>Sales</td>\n",
       "      <td>Engineer</td>\n",
       "      <td>New York</td>\n",
       "      <td>10.0</td>\n",
       "      <td>0.636244</td>\n",
       "      <td>229</td>\n",
       "      <td>1</td>\n",
       "      <td>74307</td>\n",
       "      <td>0.0</td>\n",
       "    </tr>\n",
       "  </tbody>\n",
       "</table>\n",
       "</div>"
      ],
      "text/plain": [
       "   Unnamed: 0  Employee_ID   Age  Gender   Department Job_Title  \\\n",
       "0           0            0  27.0    Male    Marketing   Manager   \n",
       "1           1            1  53.0  Female        Sales  Engineer   \n",
       "2           2            2  59.0  Female    Marketing   Analyst   \n",
       "3           3            3  42.0  Female  Engineering   Manager   \n",
       "4           4            4  44.0  Female        Sales  Engineer   \n",
       "\n",
       "  Office_Localisation  Years_at_Company  Satisfaction_Level  \\\n",
       "0            New York               9.0            0.586251   \n",
       "1            New York              10.0            0.261161   \n",
       "2            New York               8.0            0.304382   \n",
       "3            New York               1.0            0.480779   \n",
       "4            New York              10.0            0.636244   \n",
       "\n",
       "  Average_Monthly_Hours  Promotion_Last_5Years  Salary  Attrition  \n",
       "0                   151                      0   60132        0.0  \n",
       "1                   221                      1   79947        0.0  \n",
       "2                   184                      0   46958        1.0  \n",
       "3                   242                      0   40662        0.0  \n",
       "4                   229                      1   74307        0.0  "
      ]
     },
     "execution_count": 17,
     "metadata": {},
     "output_type": "execute_result"
    }
   ],
   "source": [
    "df_attrition = pd.read_csv(\"../cortAIx Factory Data Science Technical Test project #1.csv\")\n",
    "df_attrition.head()"
   ]
  },
  {
   "cell_type": "code",
   "execution_count": 18,
   "id": "e038a408-f8a6-4f83-bc00-65f1fbc587e3",
   "metadata": {},
   "outputs": [
    {
     "data": {
      "text/html": [
       "<div>\n",
       "<style scoped>\n",
       "    .dataframe tbody tr th:only-of-type {\n",
       "        vertical-align: middle;\n",
       "    }\n",
       "\n",
       "    .dataframe tbody tr th {\n",
       "        vertical-align: top;\n",
       "    }\n",
       "\n",
       "    .dataframe thead th {\n",
       "        text-align: right;\n",
       "    }\n",
       "</style>\n",
       "<table border=\"1\" class=\"dataframe\">\n",
       "  <thead>\n",
       "    <tr style=\"text-align: right;\">\n",
       "      <th></th>\n",
       "      <th>Age</th>\n",
       "      <th>Gender</th>\n",
       "      <th>Department</th>\n",
       "      <th>Job_Title</th>\n",
       "      <th>Office_Localisation</th>\n",
       "      <th>Years_at_Company</th>\n",
       "      <th>Satisfaction_Level</th>\n",
       "      <th>Average_Monthly_Hours</th>\n",
       "      <th>Promotion_Last_5Years</th>\n",
       "      <th>Salary</th>\n",
       "      <th>Attrition</th>\n",
       "    </tr>\n",
       "  </thead>\n",
       "  <tbody>\n",
       "    <tr>\n",
       "      <th>0</th>\n",
       "      <td>27.0</td>\n",
       "      <td>Male</td>\n",
       "      <td>Marketing</td>\n",
       "      <td>Manager</td>\n",
       "      <td>New York</td>\n",
       "      <td>9.0</td>\n",
       "      <td>0.586251</td>\n",
       "      <td>151</td>\n",
       "      <td>0</td>\n",
       "      <td>60132</td>\n",
       "      <td>0.0</td>\n",
       "    </tr>\n",
       "    <tr>\n",
       "      <th>1</th>\n",
       "      <td>53.0</td>\n",
       "      <td>Female</td>\n",
       "      <td>Sales</td>\n",
       "      <td>Engineer</td>\n",
       "      <td>New York</td>\n",
       "      <td>10.0</td>\n",
       "      <td>0.261161</td>\n",
       "      <td>221</td>\n",
       "      <td>1</td>\n",
       "      <td>79947</td>\n",
       "      <td>0.0</td>\n",
       "    </tr>\n",
       "    <tr>\n",
       "      <th>2</th>\n",
       "      <td>59.0</td>\n",
       "      <td>Female</td>\n",
       "      <td>Marketing</td>\n",
       "      <td>Analyst</td>\n",
       "      <td>New York</td>\n",
       "      <td>8.0</td>\n",
       "      <td>0.304382</td>\n",
       "      <td>184</td>\n",
       "      <td>0</td>\n",
       "      <td>46958</td>\n",
       "      <td>1.0</td>\n",
       "    </tr>\n",
       "    <tr>\n",
       "      <th>3</th>\n",
       "      <td>42.0</td>\n",
       "      <td>Female</td>\n",
       "      <td>Engineering</td>\n",
       "      <td>Manager</td>\n",
       "      <td>New York</td>\n",
       "      <td>1.0</td>\n",
       "      <td>0.480779</td>\n",
       "      <td>242</td>\n",
       "      <td>0</td>\n",
       "      <td>40662</td>\n",
       "      <td>0.0</td>\n",
       "    </tr>\n",
       "    <tr>\n",
       "      <th>4</th>\n",
       "      <td>44.0</td>\n",
       "      <td>Female</td>\n",
       "      <td>Sales</td>\n",
       "      <td>Engineer</td>\n",
       "      <td>New York</td>\n",
       "      <td>10.0</td>\n",
       "      <td>0.636244</td>\n",
       "      <td>229</td>\n",
       "      <td>1</td>\n",
       "      <td>74307</td>\n",
       "      <td>0.0</td>\n",
       "    </tr>\n",
       "  </tbody>\n",
       "</table>\n",
       "</div>"
      ],
      "text/plain": [
       "    Age  Gender   Department Job_Title Office_Localisation  Years_at_Company  \\\n",
       "0  27.0    Male    Marketing   Manager            New York               9.0   \n",
       "1  53.0  Female        Sales  Engineer            New York              10.0   \n",
       "2  59.0  Female    Marketing   Analyst            New York               8.0   \n",
       "3  42.0  Female  Engineering   Manager            New York               1.0   \n",
       "4  44.0  Female        Sales  Engineer            New York              10.0   \n",
       "\n",
       "   Satisfaction_Level Average_Monthly_Hours  Promotion_Last_5Years  Salary  \\\n",
       "0            0.586251                   151                      0   60132   \n",
       "1            0.261161                   221                      1   79947   \n",
       "2            0.304382                   184                      0   46958   \n",
       "3            0.480779                   242                      0   40662   \n",
       "4            0.636244                   229                      1   74307   \n",
       "\n",
       "   Attrition  \n",
       "0        0.0  \n",
       "1        0.0  \n",
       "2        1.0  \n",
       "3        0.0  \n",
       "4        0.0  "
      ]
     },
     "execution_count": 18,
     "metadata": {},
     "output_type": "execute_result"
    }
   ],
   "source": [
    "df_attrition=df_attrition.iloc[:, 2:]\n",
    "df_attrition.head()"
   ]
  },
  {
   "cell_type": "code",
   "execution_count": 58,
   "id": "4c82c590-acdb-4d40-b3b2-6b7b0cad3522",
   "metadata": {},
   "outputs": [
    {
     "data": {
      "text/plain": [
       "(1005, 11)"
      ]
     },
     "execution_count": 58,
     "metadata": {},
     "output_type": "execute_result"
    }
   ],
   "source": [
    "df_attrition.shape"
   ]
  },
  {
   "cell_type": "code",
   "execution_count": 19,
   "id": "93337023-c25d-469d-aea9-1d7a6e54f791",
   "metadata": {},
   "outputs": [
    {
     "name": "stdout",
     "output_type": "stream",
     "text": [
      "<class 'pandas.core.frame.DataFrame'>\n",
      "RangeIndex: 1005 entries, 0 to 1004\n",
      "Data columns (total 11 columns):\n",
      " #   Column                 Non-Null Count  Dtype  \n",
      "---  ------                 --------------  -----  \n",
      " 0   Age                    1002 non-null   float64\n",
      " 1   Gender                 1005 non-null   object \n",
      " 2   Department             1003 non-null   object \n",
      " 3   Job_Title              1003 non-null   object \n",
      " 4   Office_Localisation    1005 non-null   object \n",
      " 5   Years_at_Company       1003 non-null   float64\n",
      " 6   Satisfaction_Level     1005 non-null   float64\n",
      " 7   Average_Monthly_Hours  1005 non-null   object \n",
      " 8   Promotion_Last_5Years  1005 non-null   int64  \n",
      " 9   Salary                 1005 non-null   int64  \n",
      " 10  Attrition              1003 non-null   float64\n",
      "dtypes: float64(4), int64(2), object(5)\n",
      "memory usage: 86.5+ KB\n"
     ]
    }
   ],
   "source": [
    "df_attrition.info()"
   ]
  },
  {
   "cell_type": "code",
   "execution_count": 20,
   "id": "cba11626-644b-4bab-bbec-b5f414a64908",
   "metadata": {},
   "outputs": [
    {
     "data": {
      "text/html": [
       "<div>\n",
       "<style scoped>\n",
       "    .dataframe tbody tr th:only-of-type {\n",
       "        vertical-align: middle;\n",
       "    }\n",
       "\n",
       "    .dataframe tbody tr th {\n",
       "        vertical-align: top;\n",
       "    }\n",
       "\n",
       "    .dataframe thead th {\n",
       "        text-align: right;\n",
       "    }\n",
       "</style>\n",
       "<table border=\"1\" class=\"dataframe\">\n",
       "  <thead>\n",
       "    <tr style=\"text-align: right;\">\n",
       "      <th></th>\n",
       "      <th>Age</th>\n",
       "      <th>Years_at_Company</th>\n",
       "      <th>Satisfaction_Level</th>\n",
       "      <th>Promotion_Last_5Years</th>\n",
       "      <th>Salary</th>\n",
       "      <th>Attrition</th>\n",
       "    </tr>\n",
       "  </thead>\n",
       "  <tbody>\n",
       "    <tr>\n",
       "      <th>count</th>\n",
       "      <td>1002.000000</td>\n",
       "      <td>1003.000000</td>\n",
       "      <td>1005.000000</td>\n",
       "      <td>1005.000000</td>\n",
       "      <td>1005.000000</td>\n",
       "      <td>1003.000000</td>\n",
       "    </tr>\n",
       "    <tr>\n",
       "      <th>mean</th>\n",
       "      <td>42.159681</td>\n",
       "      <td>5.788550</td>\n",
       "      <td>0.853978</td>\n",
       "      <td>77.989055</td>\n",
       "      <td>64364.466667</td>\n",
       "      <td>0.493519</td>\n",
       "    </tr>\n",
       "    <tr>\n",
       "      <th>std</th>\n",
       "      <td>10.003219</td>\n",
       "      <td>5.038546</td>\n",
       "      <td>7.786145</td>\n",
       "      <td>1758.286034</td>\n",
       "      <td>20707.140455</td>\n",
       "      <td>0.500207</td>\n",
       "    </tr>\n",
       "    <tr>\n",
       "      <th>min</th>\n",
       "      <td>25.000000</td>\n",
       "      <td>0.000000</td>\n",
       "      <td>0.001376</td>\n",
       "      <td>0.000000</td>\n",
       "      <td>0.000000</td>\n",
       "      <td>0.000000</td>\n",
       "    </tr>\n",
       "    <tr>\n",
       "      <th>25%</th>\n",
       "      <td>33.000000</td>\n",
       "      <td>3.000000</td>\n",
       "      <td>0.261064</td>\n",
       "      <td>0.000000</td>\n",
       "      <td>47576.000000</td>\n",
       "      <td>0.000000</td>\n",
       "    </tr>\n",
       "    <tr>\n",
       "      <th>50%</th>\n",
       "      <td>43.000000</td>\n",
       "      <td>6.000000</td>\n",
       "      <td>0.505940</td>\n",
       "      <td>0.000000</td>\n",
       "      <td>64407.000000</td>\n",
       "      <td>0.000000</td>\n",
       "    </tr>\n",
       "    <tr>\n",
       "      <th>75%</th>\n",
       "      <td>50.000000</td>\n",
       "      <td>8.000000</td>\n",
       "      <td>0.762460</td>\n",
       "      <td>1.000000</td>\n",
       "      <td>81919.000000</td>\n",
       "      <td>1.000000</td>\n",
       "    </tr>\n",
       "    <tr>\n",
       "      <th>max</th>\n",
       "      <td>59.000000</td>\n",
       "      <td>99.000000</td>\n",
       "      <td>177.000000</td>\n",
       "      <td>45124.000000</td>\n",
       "      <td>99991.000000</td>\n",
       "      <td>1.000000</td>\n",
       "    </tr>\n",
       "  </tbody>\n",
       "</table>\n",
       "</div>"
      ],
      "text/plain": [
       "               Age  Years_at_Company  Satisfaction_Level  \\\n",
       "count  1002.000000       1003.000000         1005.000000   \n",
       "mean     42.159681          5.788550            0.853978   \n",
       "std      10.003219          5.038546            7.786145   \n",
       "min      25.000000          0.000000            0.001376   \n",
       "25%      33.000000          3.000000            0.261064   \n",
       "50%      43.000000          6.000000            0.505940   \n",
       "75%      50.000000          8.000000            0.762460   \n",
       "max      59.000000         99.000000          177.000000   \n",
       "\n",
       "       Promotion_Last_5Years        Salary    Attrition  \n",
       "count            1005.000000   1005.000000  1003.000000  \n",
       "mean               77.989055  64364.466667     0.493519  \n",
       "std              1758.286034  20707.140455     0.500207  \n",
       "min                 0.000000      0.000000     0.000000  \n",
       "25%                 0.000000  47576.000000     0.000000  \n",
       "50%                 0.000000  64407.000000     0.000000  \n",
       "75%                 1.000000  81919.000000     1.000000  \n",
       "max             45124.000000  99991.000000     1.000000  "
      ]
     },
     "execution_count": 20,
     "metadata": {},
     "output_type": "execute_result"
    }
   ],
   "source": [
    "df_attrition.describe()"
   ]
  },
  {
   "cell_type": "code",
   "execution_count": 23,
   "id": "af3e8223-54d7-4b4a-8b08-bd4010044a36",
   "metadata": {},
   "outputs": [
    {
     "data": {
      "text/html": [
       "<div>\n",
       "<style scoped>\n",
       "    .dataframe tbody tr th:only-of-type {\n",
       "        vertical-align: middle;\n",
       "    }\n",
       "\n",
       "    .dataframe tbody tr th {\n",
       "        vertical-align: top;\n",
       "    }\n",
       "\n",
       "    .dataframe thead th {\n",
       "        text-align: right;\n",
       "    }\n",
       "</style>\n",
       "<table border=\"1\" class=\"dataframe\">\n",
       "  <thead>\n",
       "    <tr style=\"text-align: right;\">\n",
       "      <th></th>\n",
       "      <th>Age</th>\n",
       "      <th>Gender</th>\n",
       "      <th>Department</th>\n",
       "      <th>Job_Title</th>\n",
       "      <th>Office_Localisation</th>\n",
       "      <th>Years_at_Company</th>\n",
       "      <th>Satisfaction_Level</th>\n",
       "      <th>Average_Monthly_Hours</th>\n",
       "      <th>Promotion_Last_5Years</th>\n",
       "      <th>Salary</th>\n",
       "      <th>Attrition</th>\n",
       "    </tr>\n",
       "  </thead>\n",
       "  <tbody>\n",
       "    <tr>\n",
       "      <th>0</th>\n",
       "      <td>27.0</td>\n",
       "      <td>Male</td>\n",
       "      <td>Marketing</td>\n",
       "      <td>Manager</td>\n",
       "      <td>New York</td>\n",
       "      <td>9.0</td>\n",
       "      <td>0.586251</td>\n",
       "      <td>151</td>\n",
       "      <td>0</td>\n",
       "      <td>60132</td>\n",
       "      <td>0.0</td>\n",
       "    </tr>\n",
       "    <tr>\n",
       "      <th>1</th>\n",
       "      <td>53.0</td>\n",
       "      <td>Female</td>\n",
       "      <td>Sales</td>\n",
       "      <td>Engineer</td>\n",
       "      <td>New York</td>\n",
       "      <td>10.0</td>\n",
       "      <td>0.261161</td>\n",
       "      <td>221</td>\n",
       "      <td>1</td>\n",
       "      <td>79947</td>\n",
       "      <td>0.0</td>\n",
       "    </tr>\n",
       "    <tr>\n",
       "      <th>2</th>\n",
       "      <td>59.0</td>\n",
       "      <td>Female</td>\n",
       "      <td>Marketing</td>\n",
       "      <td>Analyst</td>\n",
       "      <td>New York</td>\n",
       "      <td>8.0</td>\n",
       "      <td>0.304382</td>\n",
       "      <td>184</td>\n",
       "      <td>0</td>\n",
       "      <td>46958</td>\n",
       "      <td>1.0</td>\n",
       "    </tr>\n",
       "    <tr>\n",
       "      <th>3</th>\n",
       "      <td>42.0</td>\n",
       "      <td>Female</td>\n",
       "      <td>Engineering</td>\n",
       "      <td>Manager</td>\n",
       "      <td>New York</td>\n",
       "      <td>1.0</td>\n",
       "      <td>0.480779</td>\n",
       "      <td>242</td>\n",
       "      <td>0</td>\n",
       "      <td>40662</td>\n",
       "      <td>0.0</td>\n",
       "    </tr>\n",
       "    <tr>\n",
       "      <th>4</th>\n",
       "      <td>44.0</td>\n",
       "      <td>Female</td>\n",
       "      <td>Sales</td>\n",
       "      <td>Engineer</td>\n",
       "      <td>New York</td>\n",
       "      <td>10.0</td>\n",
       "      <td>0.636244</td>\n",
       "      <td>229</td>\n",
       "      <td>1</td>\n",
       "      <td>74307</td>\n",
       "      <td>0.0</td>\n",
       "    </tr>\n",
       "  </tbody>\n",
       "</table>\n",
       "</div>"
      ],
      "text/plain": [
       "    Age  Gender   Department Job_Title Office_Localisation  Years_at_Company  \\\n",
       "0  27.0    Male    Marketing   Manager            New York               9.0   \n",
       "1  53.0  Female        Sales  Engineer            New York              10.0   \n",
       "2  59.0  Female    Marketing   Analyst            New York               8.0   \n",
       "3  42.0  Female  Engineering   Manager            New York               1.0   \n",
       "4  44.0  Female        Sales  Engineer            New York              10.0   \n",
       "\n",
       "   Satisfaction_Level Average_Monthly_Hours  Promotion_Last_5Years  Salary  \\\n",
       "0            0.586251                   151                      0   60132   \n",
       "1            0.261161                   221                      1   79947   \n",
       "2            0.304382                   184                      0   46958   \n",
       "3            0.480779                   242                      0   40662   \n",
       "4            0.636244                   229                      1   74307   \n",
       "\n",
       "   Attrition  \n",
       "0        0.0  \n",
       "1        0.0  \n",
       "2        1.0  \n",
       "3        0.0  \n",
       "4        0.0  "
      ]
     },
     "execution_count": 23,
     "metadata": {},
     "output_type": "execute_result"
    }
   ],
   "source": [
    "df_attrition.head()"
   ]
  },
  {
   "cell_type": "markdown",
   "id": "5cb2a0f1-7578-42ed-b9e2-a2dfa4028b93",
   "metadata": {},
   "source": [
    "# Statistics"
   ]
  },
  {
   "cell_type": "markdown",
   "id": "f95604f9-52b4-4eac-98d3-b34a3a4c8f16",
   "metadata": {},
   "source": [
    "## Categorical Data"
   ]
  },
  {
   "cell_type": "code",
   "execution_count": 22,
   "id": "12b7e860-9495-464d-a683-a5a6f890dc8c",
   "metadata": {},
   "outputs": [
    {
     "data": {
      "text/plain": [
       "Gender\n",
       "Male      0.506468\n",
       "Female    0.493532\n",
       "Name: proportion, dtype: float64"
      ]
     },
     "execution_count": 22,
     "metadata": {},
     "output_type": "execute_result"
    }
   ],
   "source": [
    "df_attrition[\"Gender\"].value_counts(normalize=True, dropna=False)"
   ]
  },
  {
   "cell_type": "code",
   "execution_count": 25,
   "id": "d14af411-e73a-401f-b90d-608a287b7670",
   "metadata": {},
   "outputs": [
    {
     "data": {
      "text/plain": [
       "Department\n",
       "Sales          0.208955\n",
       "Finance        0.205970\n",
       "Engineering    0.203980\n",
       "HR             0.190050\n",
       "Marketing      0.189055\n",
       "NaN            0.001990\n",
       "Name: proportion, dtype: float64"
      ]
     },
     "execution_count": 25,
     "metadata": {},
     "output_type": "execute_result"
    }
   ],
   "source": [
    "df_attrition[\"Department\"].value_counts(normalize=True, dropna=False)"
   ]
  },
  {
   "cell_type": "code",
   "execution_count": 26,
   "id": "4ff134ca-a96f-4ee5-9e68-6f01c707cc8d",
   "metadata": {},
   "outputs": [
    {
     "data": {
      "text/plain": [
       "Job_Title\n",
       "Engineer         0.213930\n",
       "Accountant       0.206965\n",
       "Manager          0.203980\n",
       "Analyst          0.193035\n",
       "HR Specialist    0.178109\n",
       "NaN              0.001990\n",
       "1                0.000995\n",
       "2                0.000995\n",
       "Name: proportion, dtype: float64"
      ]
     },
     "execution_count": 26,
     "metadata": {},
     "output_type": "execute_result"
    }
   ],
   "source": [
    "df_attrition[\"Job_Title\"].value_counts(normalize=True, dropna=False)"
   ]
  },
  {
   "cell_type": "code",
   "execution_count": 27,
   "id": "d98a5846-f6cb-4af5-9963-588e468448bd",
   "metadata": {},
   "outputs": [
    {
     "data": {
      "text/plain": [
       "Office_Localisation\n",
       "New York    1.0\n",
       "Name: proportion, dtype: float64"
      ]
     },
     "execution_count": 27,
     "metadata": {},
     "output_type": "execute_result"
    }
   ],
   "source": [
    "df_attrition[\"Office_Localisation\"].value_counts(normalize=True, dropna=False)"
   ]
  },
  {
   "cell_type": "code",
   "execution_count": 29,
   "id": "d1fd1f03-e14b-4cf8-bc8c-ad2096dc03bc",
   "metadata": {},
   "outputs": [
    {
     "data": {
      "text/plain": [
       "Promotion_Last_5Years\n",
       "0        0.515423\n",
       "1        0.482587\n",
       "45124    0.000995\n",
       "32770    0.000995\n",
       "Name: proportion, dtype: float64"
      ]
     },
     "execution_count": 29,
     "metadata": {},
     "output_type": "execute_result"
    }
   ],
   "source": [
    "df_attrition[\"Promotion_Last_5Years\"].value_counts(normalize=True, dropna=False)"
   ]
  },
  {
   "cell_type": "markdown",
   "id": "f91637b9-5301-42de-a7c7-4bfaad84aaec",
   "metadata": {},
   "source": [
    "Most categorical data are uniformly distributed, with some of the following issues:\n",
    "- Missing values in Department\n",
    "- Missing values in Job_Title\n",
    "- Outliers in Job_Title (values 1 and 2)\n",
    "- Outliers in Promotion_Last_5Years (values 45124 and 32770)"
   ]
  },
  {
   "cell_type": "code",
   "execution_count": 30,
   "id": "dc288c9b-c482-4317-b004-106d0708cd34",
   "metadata": {},
   "outputs": [],
   "source": [
    "mask_categorical = (\n",
    "    df_attrition[\"Department\"].isnull() |\n",
    "    df_attrition[\"Job_Title\"].isnull() |\n",
    "    df_attrition[\"Job_Title\"].isin([\"1\", \"2\"]) |\n",
    "    df_attrition[\"Promotion_Last_5Years\"].isin([45124, 32770])\n",
    ")"
   ]
  },
  {
   "cell_type": "markdown",
   "id": "021ecb04-ac6a-4288-bf95-57023b912a62",
   "metadata": {},
   "source": [
    "## Numerical Data"
   ]
  },
  {
   "cell_type": "code",
   "execution_count": 33,
   "id": "be053025-d995-4855-a218-17a04e9d8286",
   "metadata": {},
   "outputs": [
    {
     "data": {
      "text/plain": [
       "Age                      3\n",
       "Years_at_Company         2\n",
       "Satisfaction_Level       0\n",
       "Average_Monthly_Hours    0\n",
       "Salary                   0\n",
       "dtype: int64"
      ]
     },
     "execution_count": 33,
     "metadata": {},
     "output_type": "execute_result"
    }
   ],
   "source": [
    "# We check for missing values\n",
    "df_attrition[[\"Age\", \"Years_at_Company\",\n",
    "             \"Satisfaction_Level\", \"Average_Monthly_Hours\",\n",
    "             \"Salary\"]].isnull().sum()"
   ]
  },
  {
   "cell_type": "code",
   "execution_count": 50,
   "id": "0c3ea8e0-1f1a-432a-a4f5-214ba1edcc22",
   "metadata": {},
   "outputs": [
    {
     "data": {
      "text/html": [
       "<div>\n",
       "<style scoped>\n",
       "    .dataframe tbody tr th:only-of-type {\n",
       "        vertical-align: middle;\n",
       "    }\n",
       "\n",
       "    .dataframe tbody tr th {\n",
       "        vertical-align: top;\n",
       "    }\n",
       "\n",
       "    .dataframe thead th {\n",
       "        text-align: right;\n",
       "    }\n",
       "</style>\n",
       "<table border=\"1\" class=\"dataframe\">\n",
       "  <thead>\n",
       "    <tr style=\"text-align: right;\">\n",
       "      <th></th>\n",
       "      <th>Age</th>\n",
       "      <th>Gender</th>\n",
       "      <th>Department</th>\n",
       "      <th>Job_Title</th>\n",
       "      <th>Office_Localisation</th>\n",
       "      <th>Years_at_Company</th>\n",
       "      <th>Satisfaction_Level</th>\n",
       "      <th>Average_Monthly_Hours</th>\n",
       "      <th>Promotion_Last_5Years</th>\n",
       "      <th>Salary</th>\n",
       "      <th>Attrition</th>\n",
       "    </tr>\n",
       "  </thead>\n",
       "  <tbody>\n",
       "    <tr>\n",
       "      <th>206</th>\n",
       "      <td>26.0</td>\n",
       "      <td>Female</td>\n",
       "      <td>Engineering</td>\n",
       "      <td>Engineer</td>\n",
       "      <td>New York</td>\n",
       "      <td>99.0</td>\n",
       "      <td>0.870157</td>\n",
       "      <td>168</td>\n",
       "      <td>0</td>\n",
       "      <td>30773</td>\n",
       "      <td>0.0</td>\n",
       "    </tr>\n",
       "    <tr>\n",
       "      <th>770</th>\n",
       "      <td>32.0</td>\n",
       "      <td>Male</td>\n",
       "      <td>Engineering</td>\n",
       "      <td>Analyst</td>\n",
       "      <td>New York</td>\n",
       "      <td>99.0</td>\n",
       "      <td>0.471630</td>\n",
       "      <td>163</td>\n",
       "      <td>0</td>\n",
       "      <td>60017</td>\n",
       "      <td>1.0</td>\n",
       "    </tr>\n",
       "  </tbody>\n",
       "</table>\n",
       "</div>"
      ],
      "text/plain": [
       "      Age  Gender   Department Job_Title Office_Localisation  \\\n",
       "206  26.0  Female  Engineering  Engineer            New York   \n",
       "770  32.0    Male  Engineering   Analyst            New York   \n",
       "\n",
       "     Years_at_Company  Satisfaction_Level Average_Monthly_Hours  \\\n",
       "206              99.0            0.870157                   168   \n",
       "770              99.0            0.471630                   163   \n",
       "\n",
       "     Promotion_Last_5Years  Salary  Attrition  \n",
       "206                      0   30773        0.0  \n",
       "770                      0   60017        1.0  "
      ]
     },
     "execution_count": 50,
     "metadata": {},
     "output_type": "execute_result"
    }
   ],
   "source": [
    "# We check for not consistent data\n",
    "df_attrition[df_attrition[\"Age\"] < df_attrition[\"Years_at_Company\"]]"
   ]
  },
  {
   "cell_type": "code",
   "execution_count": 46,
   "id": "41b5f367-214d-407b-aa82-9d0e69c85634",
   "metadata": {},
   "outputs": [
    {
     "data": {
      "image/png": "[encoded data removed]",
      "text/plain": [
       "<Figure size 2000x500 with 5 Axes>"
      ]
     },
     "metadata": {},
     "output_type": "display_data"
    }
   ],
   "source": [
    "# We check for outliers using boxplot\n",
    "fig, axes = plt.subplots(2, 3, figsize=(20, 5))\n",
    "axes[1, 2].remove()\n",
    "axes = axes.flatten()\n",
    "\n",
    "for i, col in enumerate([\"Age\", \"Years_at_Company\", \"Satisfaction_Level\",\n",
    "                        \"Average_Monthly_Hours\", \"Salary\"]):\n",
    "    plt.sca(axes[i])\n",
    "    sns.boxplot(y=df_attrition[col])"
   ]
  },
  {
   "cell_type": "markdown",
   "id": "1c7f3b7b-766b-4a3c-93eb-126560cbf376",
   "metadata": {},
   "source": [
    "Variables Years_at_Company and Satisfaction_Level present some outliers as seen in the boxplots respectively for over 90 and over 150"
   ]
  },
  {
   "cell_type": "code",
   "execution_count": 51,
   "id": "beb021ca-1666-459e-828c-940f7f66d0de",
   "metadata": {},
   "outputs": [],
   "source": [
    "mask_numerical = (\n",
    "    df_attrition[\"Age\"].isnull() |\n",
    "    df_attrition[\"Years_at_Company\"].isnull() |\n",
    "    (df_attrition[\"Age\"] < df_attrition[\"Years_at_Company\"]) |\n",
    "    (df_attrition[\"Years_at_Company\"] > 90) |\n",
    "    (df_attrition[\"Satisfaction_Level\"] > 150)\n",
    ")"
   ]
  },
  {
   "cell_type": "markdown",
   "id": "b03c392b-a39b-4d17-9bef-37bca62c737b",
   "metadata": {},
   "source": [
    "## Target"
   ]
  },
  {
   "cell_type": "code",
   "execution_count": 36,
   "id": "2f335d92-eec7-4c6b-b168-debd2f6e85ba",
   "metadata": {},
   "outputs": [
    {
     "data": {
      "text/plain": [
       "Attrition\n",
       "0.0    0.505473\n",
       "1.0    0.492537\n",
       "NaN    0.001990\n",
       "Name: proportion, dtype: float64"
      ]
     },
     "execution_count": 36,
     "metadata": {},
     "output_type": "execute_result"
    }
   ],
   "source": [
    "df_attrition[\"Attrition\"].value_counts(normalize=True, dropna=False)"
   ]
  },
  {
   "cell_type": "markdown",
   "id": "1cb0097e-bbce-40b1-9c3a-8438fb491c93",
   "metadata": {},
   "source": [
    "The data is not imbalanced, we will not need to use techniques like SMOTE or ADASYN, or change the losses of the classification algorithms.\n",
    "\n",
    "However, the target has some missing values."
   ]
  },
  {
   "cell_type": "code",
   "execution_count": 38,
   "id": "ddd9330b-4f05-4381-b7c2-83bbf6519f7d",
   "metadata": {},
   "outputs": [],
   "source": [
    "mask_target = df_attrition[\"Attrition\"].isnull()"
   ]
  },
  {
   "cell_type": "markdown",
   "id": "1fbb2aff-ce75-4ab1-80bc-710793872ab2",
   "metadata": {},
   "source": [
    "## Dealing with missing values and outliers"
   ]
  },
  {
   "cell_type": "code",
   "execution_count": 53,
   "id": "7d6270b9-feb4-4119-93c3-aa92fad64501",
   "metadata": {},
   "outputs": [
    {
     "data": {
      "text/plain": [
       "0.010945273631840797"
      ]
     },
     "execution_count": 53,
     "metadata": {},
     "output_type": "execute_result"
    }
   ],
   "source": [
    "len(df_attrition[mask_categorical | mask_numerical | mask_target])/len(df_attrition)"
   ]
  }
 ],
 "metadata": {
  "kernelspec": {
   "display_name": "Python 3 (ipykernel)",
   "language": "python",
   "name": "python3"
  },
  "language_info": {
   "codemirror_mode": {
    "name": "ipython",
    "version": 3
   },
   "file_extension": ".py",
   "mimetype": "text/x-python",
   "name": "python",
   "nbconvert_exporter": "python",
   "pygments_lexer": "ipython3",
   "version": "3.12.7"
  }
 },
 "nbformat": 4,
 "nbformat_minor": 5
}
